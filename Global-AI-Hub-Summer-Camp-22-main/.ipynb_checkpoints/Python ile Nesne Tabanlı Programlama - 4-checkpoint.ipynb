{
 "cells": [
  {
   "cell_type": "markdown",
   "id": "cebfae92",
   "metadata": {},
   "source": [
    "# Final Exercise\n",
    "\n",
    "Bir televizyonun kanalını değiştiren, sesini kısıp, yükseltebilen bir kumanda sınıfı tanımlayınız, özelliklerini test ediniz."
   ]
  },
  {
   "cell_type": "code",
   "execution_count": 1,
   "id": "12c6efc6",
   "metadata": {},
   "outputs": [],
   "source": [
    "import time"
   ]
  },
  {
   "cell_type": "code",
   "execution_count": 52,
   "id": "967cf234",
   "metadata": {},
   "outputs": [],
   "source": [
    "class Kumanda():\n",
    "    \n",
    "    def __init__(self, tv_durum = \"Kapalı\", tv_ses = 5, tv_kanal = \"TRT\", kanal_listesi = [\"TRT\"]):\n",
    "        \n",
    "        self.tv_durum = tv_durum\n",
    "        self.tv_ses = tv_ses\n",
    "        self.tv_kanal = tv_kanal\n",
    "        self.kanal_listesi = kanal_listesi\n",
    "    \n",
    "    def tv_aç(self):\n",
    "        if self.tv_durum != \"Açık\":\n",
    "            print(\"TV Açılıyor...\")\n",
    "            self.tv_durum = \"Açık\"\n",
    "            print(\"TV Açıldı.\")\n",
    "        else:\n",
    "            print(\"TV zaten açık!\")\n",
    "            \n",
    "    def tv_kapat(self):\n",
    "        if self.tv_durum != \"Kapalı\":\n",
    "            print(\"TV Kapanıyor...\")\n",
    "            self.tv_durum = \"Kapalı\"\n",
    "            print(\"TV Kapatıldı.\")\n",
    "        else:\n",
    "            print(\"TV zaten kapalı!\")\n",
    "    \n",
    "    def __str__(self):\n",
    "        return \"TV Durum: {} \\nSes Düzeyi: {} \\nMevcut Kanal: {} \\nKanal Listesi: {}\".format(self.tv_durum, self.tv_ses, self.tv_kanal, self.kanal_listesi)\n",
    "\n",
    "    def sesi_degistir(self):\n",
    "        if self.tv_durum == \"Açık\":\n",
    "            while True:\n",
    "                komut = input(\"Sesi azaltmak için '<' artırmak için '>' çıkış yapmak için 'q' ya basınız. \\n\")\n",
    "                \n",
    "                if komut == \"<\":\n",
    "                    if self.tv_ses != 0:\n",
    "                        self.tv_ses -= 1\n",
    "                        print(\"Ses:\", self.tv_ses)\n",
    "                    else:\n",
    "                        print(\"Ses en düşük seviyede.\")\n",
    "                        \n",
    "                elif komut == \">\":\n",
    "                    if self.tv_ses != 10:\n",
    "                        self.tv_ses += 1\n",
    "                        print(\"Ses:\", self.tv_ses)\n",
    "                    else:\n",
    "                        print(\"Ses en yüksek seviyede!\")\n",
    "                \n",
    "                elif komut == \"q\":\n",
    "                    print(\"Ses güncellendi:\", self.tv_ses)\n",
    "                    break\n",
    "                \n",
    "                else:\n",
    "                    print(\"Geçersiz komut!\")\n",
    "                    continue\n",
    "        \n",
    "        else:\n",
    "            print(\"Tv kapalı!\")\n",
    "        \n",
    "    def kanal_degistir(self):\n",
    "        if self.tv_durum == \"Açık\":\n",
    "            while True:\n",
    "                kanal = input(\"Açılmasını istediğiniz kanal ismini giriniz, çıkmak için 'q' ya basınız.\")\n",
    "                if kanal in self.kanal_listesi:\n",
    "                    print(\"Kanal değiştiriliyor...\")\n",
    "                    self.tv_kanal = kanal\n",
    "                    print(\"Kanal değiştirildi:\", self.tv_kanal)\n",
    "\n",
    "                elif kanal == \"q\":\n",
    "                    print(\"Çıkılıyor...\")\n",
    "                    break\n",
    "                else:\n",
    "                    print(\"Bu kanal yüklü değil!\")\n",
    "                    continue\n",
    "        else:\n",
    "            print(\"Tv kapalı!\")\n",
    "        \n",
    "        \n",
    "    def kanal_ekle(self):\n",
    "        if self.tv_durum == \"Açık\":\n",
    "            while True:\n",
    "                yeni_kanal = input(\"Eklenmesini istediğiniz kanalın ismini giriniz. Çıkmak için 'q' ya basınız.\")\n",
    "                if yeni_kanal in self.kanal_listesi:\n",
    "                    print(\"Kanal zaten zaten ekli!\")\n",
    "                elif yeni_kanal == \"q\":\n",
    "                    print(\"Çıkılıyor...\")\n",
    "                    break\n",
    "                else:\n",
    "                    print(\"Kanal ekleniyor...\")\n",
    "                    self.kanal_listesi.append(yeni_kanal)\n",
    "                    print(\"Kanal eklendi:\", self.kanal_listesi)\n",
    "\n",
    "        else:\n",
    "            print(\"Tv kapalı!\")\n",
    "                \n",
    "                "
   ]
  },
  {
   "cell_type": "code",
   "execution_count": 53,
   "id": "ce68acb3",
   "metadata": {},
   "outputs": [
    {
     "data": {
      "text/plain": [
       "<__main__.Kumanda at 0x2603d1d1400>"
      ]
     },
     "execution_count": 53,
     "metadata": {},
     "output_type": "execute_result"
    }
   ],
   "source": [
    "kumanda1 = Kumanda()\n",
    "kumanda1"
   ]
  },
  {
   "cell_type": "code",
   "execution_count": 54,
   "id": "f40e3fb0",
   "metadata": {},
   "outputs": [
    {
     "name": "stdout",
     "output_type": "stream",
     "text": [
      "TV Durum: Kapalı \n",
      "Ses Düzeyi: 5 \n",
      "Mevcut Kanal: TRT \n",
      "Kanal Listesi: ['TRT']\n"
     ]
    }
   ],
   "source": [
    "print(kumanda1)"
   ]
  },
  {
   "cell_type": "code",
   "execution_count": 55,
   "id": "05fc6ba0",
   "metadata": {},
   "outputs": [
    {
     "name": "stdout",
     "output_type": "stream",
     "text": [
      "TV Açılıyor...\n",
      "TV Açıldı.\n"
     ]
    }
   ],
   "source": [
    "kumanda1.tv_aç()"
   ]
  },
  {
   "cell_type": "code",
   "execution_count": 56,
   "id": "43d083c2",
   "metadata": {},
   "outputs": [
    {
     "name": "stdout",
     "output_type": "stream",
     "text": [
      "TV Durum: Açık \n",
      "Ses Düzeyi: 5 \n",
      "Mevcut Kanal: TRT \n",
      "Kanal Listesi: ['TRT']\n"
     ]
    }
   ],
   "source": [
    "print(kumanda1)"
   ]
  },
  {
   "cell_type": "code",
   "execution_count": 57,
   "id": "85017722",
   "metadata": {},
   "outputs": [
    {
     "name": "stdout",
     "output_type": "stream",
     "text": [
      "Sesi azaltmak için '<' artırmak için '>' çıkış yapmak için 'q' ya basınız. \n",
      ">\n",
      "Ses: 6\n",
      "Sesi azaltmak için '<' artırmak için '>' çıkış yapmak için 'q' ya basınız. \n",
      ">\n",
      "Ses: 7\n",
      "Sesi azaltmak için '<' artırmak için '>' çıkış yapmak için 'q' ya basınız. \n",
      ">\n",
      "Ses: 8\n",
      "Sesi azaltmak için '<' artırmak için '>' çıkış yapmak için 'q' ya basınız. \n",
      "q\n",
      "Ses güncellendi: 8\n"
     ]
    }
   ],
   "source": [
    "kumanda1.sesi_degistir()"
   ]
  },
  {
   "cell_type": "code",
   "execution_count": 58,
   "id": "d8f332e6",
   "metadata": {},
   "outputs": [
    {
     "name": "stdout",
     "output_type": "stream",
     "text": [
      "Eklenmesini istediğiniz kanalın ismini giriniz. Çıkmak için 'q' ya basınız.Kanal D\n",
      "Kanal ekleniyor...\n",
      "Kanal eklendi: ['TRT', 'Kanal D']\n",
      "Eklenmesini istediğiniz kanalın ismini giriniz. Çıkmak için 'q' ya basınız.TV 8\n",
      "Kanal ekleniyor...\n",
      "Kanal eklendi: ['TRT', 'Kanal D', 'TV 8']\n",
      "Eklenmesini istediğiniz kanalın ismini giriniz. Çıkmak için 'q' ya basınız.Fox TV\n",
      "Kanal ekleniyor...\n",
      "Kanal eklendi: ['TRT', 'Kanal D', 'TV 8', 'Fox TV']\n",
      "Eklenmesini istediğiniz kanalın ismini giriniz. Çıkmak için 'q' ya basınız.Show TV\n",
      "Kanal ekleniyor...\n",
      "Kanal eklendi: ['TRT', 'Kanal D', 'TV 8', 'Fox TV', 'Show TV']\n",
      "Eklenmesini istediğiniz kanalın ismini giriniz. Çıkmak için 'q' ya basınız.q\n",
      "Çıkılıyor...\n"
     ]
    }
   ],
   "source": [
    "kumanda1.kanal_ekle()"
   ]
  },
  {
   "cell_type": "code",
   "execution_count": 59,
   "id": "0e641784",
   "metadata": {},
   "outputs": [
    {
     "name": "stdout",
     "output_type": "stream",
     "text": [
      "TV Durum: Açık \n",
      "Ses Düzeyi: 8 \n",
      "Mevcut Kanal: TRT \n",
      "Kanal Listesi: ['TRT', 'Kanal D', 'TV 8', 'Fox TV', 'Show TV']\n"
     ]
    }
   ],
   "source": [
    "print(kumanda1)"
   ]
  },
  {
   "cell_type": "code",
   "execution_count": 60,
   "id": "2100a60e",
   "metadata": {},
   "outputs": [
    {
     "name": "stdout",
     "output_type": "stream",
     "text": [
      "Açılmasını istediğiniz kanal ismini giriniz, çıkmak için 'q' ya basınız.ATV\n",
      "Bu kanal yüklü değil!\n",
      "Açılmasını istediğiniz kanal ismini giriniz, çıkmak için 'q' ya basınız.NTV\n",
      "Bu kanal yüklü değil!\n",
      "Açılmasını istediğiniz kanal ismini giriniz, çıkmak için 'q' ya basınız.Fox TV\n",
      "Kanal değiştiriliyor...\n",
      "Kanal değiştirildi: Fox TV\n",
      "Açılmasını istediğiniz kanal ismini giriniz, çıkmak için 'q' ya basınız.q\n",
      "Çıkılıyor...\n"
     ]
    }
   ],
   "source": [
    "kumanda1.kanal_degistir()"
   ]
  },
  {
   "cell_type": "code",
   "execution_count": 62,
   "id": "da214ab5",
   "metadata": {},
   "outputs": [
    {
     "name": "stdout",
     "output_type": "stream",
     "text": [
      "TV Durum: Açık \n",
      "Ses Düzeyi: 8 \n",
      "Mevcut Kanal: Fox TV \n",
      "Kanal Listesi: ['TRT', 'Kanal D', 'TV 8', 'Fox TV', 'Show TV']\n"
     ]
    }
   ],
   "source": [
    "print(kumanda1)"
   ]
  }
 ],
 "metadata": {
  "kernelspec": {
   "display_name": "Python 3 (ipykernel)",
   "language": "python",
   "name": "python3"
  },
  "language_info": {
   "codemirror_mode": {
    "name": "ipython",
    "version": 3
   },
   "file_extension": ".py",
   "mimetype": "text/x-python",
   "name": "python",
   "nbconvert_exporter": "python",
   "pygments_lexer": "ipython3",
   "version": "3.9.12"
  }
 },
 "nbformat": 4,
 "nbformat_minor": 5
}
