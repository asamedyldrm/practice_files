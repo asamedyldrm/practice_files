{
 "cells": [
  {
   "cell_type": "markdown",
   "id": "ea7e9042",
   "metadata": {},
   "source": [
    "# Python ile Nesne Tabanlı Programlama\n",
    "\n",
    "## Nesne Tabanlı Programlama Nedir?\n",
    "\n",
    "Nesne tabanlı programlama **nesnelere** ve **nesneler üzerinde işlemlere** odaklanan programlama dili modelidir, günümüzde yazılım geliştirme teknolojileri içerisinde büyük bir önem taşımaktadır.\n",
    "\n",
    "## Temel Yapılar\n",
    "\n",
    "- Objects (Nesneler)\n",
    "- Attributes (Özellikler)\n",
    "- Functions (Metodlar)\n",
    "- Class (Sınıf)\n",
    "\n",
    "## 1. Object (Nesne) Nedir ?\n",
    "\n",
    "Cansız varlıklar **nesne** olarak isimlendirilmektedir. Nesnelerin ne ifade ettiğini, ne olduklarını özelliklerinden anlayabiliriz. Araba, genel tanımıyla 4 tekerleği, motoru, markası ve modeli olan bir nesnedir. Araba dediğimiz zaman aklımıza ilk gelen şey genel bir araba tanımı olurken yani bir sınıf olurken, Marka, renk, yakıt tipi, beygir gücü gibi özellikleri belirttiğimiz zaman belirli bir arabadan yani bir nesneden bahsedildiğini anlayabiliriz. Programlama dilinde kullandığımız kodlar, fonksiyonlar, sayılar, harfler ve diğer her şey aslında birer nesnedir."
   ]
  },
  {
   "cell_type": "code",
   "execution_count": null,
   "id": "a10f27ea",
   "metadata": {},
   "outputs": [],
   "source": [
    "#Bir liste nesnesi oluşturalım\n",
    "\n",
    "liste1 = [1, 2, 3, 4, 5]\n",
    "\n",
    "type(liste1)"
   ]
  },
  {
   "cell_type": "markdown",
   "id": "0ba23014",
   "metadata": {},
   "source": [
    "- Burada oluşturulan nesne **list** sınıfının bir kaydıdır, \"liste1\" isminde kaydedilmiştir.\n",
    "\n",
    "- Aynı sınıfa kayıtlı nesneler aynı özelliklere ve metotlara sahiptir.\n",
    "\n",
    "- Örneğin **liste üzerine bir eleman eklemek** için <code>append()</code> metodunu list sınıfı üzerinden çağırabiliriz. Bu metot pythonda yer alan \"list\" sınıfına kayıtlı pek fonksiyondan biridir."
   ]
  },
  {
   "cell_type": "code",
   "execution_count": null,
   "id": "cec73ad0",
   "metadata": {},
   "outputs": [],
   "source": [
    "liste1.append(6)\n",
    "\n",
    "print(liste1)"
   ]
  },
  {
   "cell_type": "code",
   "execution_count": null,
   "id": "23bb5e8b",
   "metadata": {},
   "outputs": [],
   "source": [
    "liste2 = [1, 2, 3, 4, 5]\n",
    "\n",
    "type(liste2)"
   ]
  },
  {
   "cell_type": "code",
   "execution_count": null,
   "id": "6b6d4bc1",
   "metadata": {},
   "outputs": [],
   "source": [
    "liste2.append(6)\n",
    "print(liste2)"
   ]
  },
  {
   "cell_type": "code",
   "execution_count": null,
   "id": "508a1f23",
   "metadata": {},
   "outputs": [],
   "source": [
    "sözlük1 = dict()\n",
    "\n",
    "demet1 = tuple()\n",
    "\n",
    "print(type(sözlük1)) #tuple objesi\n",
    "print(type(demet1)) #demet objesi"
   ]
  },
  {
   "cell_type": "markdown",
   "id": "b7dae3da",
   "metadata": {},
   "source": [
    "## 2. Class (Sınıf) Nedir?\n",
    "\n",
    "\n",
    "Gerçek hayattaki bir nesneyi yazılım dünyasında temsil edecek olan yapıya **class** denir. Nesnelerin **özelliklerini (attributes)** ve **metotlarını (functions)** barındırır. \n",
    "\n",
    "- Python programlama dili ile birlikte gelen **list**, **dict**, **tuple** gibi yapıların birer sınıftır.\n",
    "\n",
    "- Sınıf oluşturmak için <code>class</code> ifadesi kullanılır.\n",
    "\n",
    "Örneğin bir araba sınıfı oluşturalım, bu arabanın **renk**, **marka**, **model**, **vites tipi**, **yakıt tipi** özelliklerini ve **motorun çalışması, sileceklerin çalışması, farların yanması** gibi fonksiyonları (metotları) bu sınıf dahilinde belirtelim."
   ]
  },
  {
   "cell_type": "code",
   "execution_count": null,
   "id": "bc517473",
   "metadata": {},
   "outputs": [],
   "source": [
    "#Önce boş bir araba sınıfı oluşturalım\n",
    "class Araba:\n",
    "    pass"
   ]
  },
  {
   "cell_type": "code",
   "execution_count": null,
   "id": "c8b70915",
   "metadata": {},
   "outputs": [],
   "source": [
    "araba1 = Araba()\n",
    "\n",
    "type(araba1)"
   ]
  },
  {
   "cell_type": "markdown",
   "id": "95962021",
   "metadata": {},
   "source": [
    "## 3. Attributes (Özellik) Nedir ?\n",
    "Sınıf içinde tanımlanan, sınıfın her hangi bir özelliğini taşıyacak olan değişkenlere verdiğimiz isimdir. Örneğin Arabanın renk bilgisi gibi.\n",
    "\n",
    "- <code>\\_\\_init\\_\\_</code> varsayılan fonksiyonu ile sınıfın **temel özelliklerini** tanımlayabiliriz. Init metodu, bir sınıfın **yapıcı metodudur** (Constructor).\n",
    "\n",
    "- <code>self</code> nesnelere ve nesnelerin özelliklerine ulaşmamızı sağlayan anahtar kelimedir (keyword).\n",
    "\n",
    "Oluşturulan araba sınıfına renk, marka ve yakıt tipi özelliklerini ekleyiniz."
   ]
  },
  {
   "cell_type": "code",
   "execution_count": null,
   "id": "f451c158",
   "metadata": {},
   "outputs": [],
   "source": [
    "#Araba sınıfına Renk, marka ve model özelliklerini ekleyelim\n",
    "\n",
    "class Araba:\n",
    "    \n",
    "    def __init__(self, renk, marka, yakıt_tipi):\n",
    "        self.renk = renk\n",
    "        self.marka = marka\n",
    "        self.yakıt_tipi = yakıt_tipi"
   ]
  },
  {
   "cell_type": "code",
   "execution_count": null,
   "id": "43ed667c",
   "metadata": {
    "scrolled": true
   },
   "outputs": [],
   "source": [
    "araba1 = Araba(renk = \"kırmızı\", marka= \"Audi\", yakıt_tipi = \"Dizel\")\n",
    "araba1"
   ]
  },
  {
   "cell_type": "code",
   "execution_count": null,
   "id": "96cf7815",
   "metadata": {},
   "outputs": [],
   "source": []
  },
  {
   "cell_type": "code",
   "execution_count": null,
   "id": "ee5b9499",
   "metadata": {
    "scrolled": true
   },
   "outputs": [],
   "source": [
    "print('Aracın Rengi: {}'.format(araba1.renk))\n",
    "print('Aracın Markası: {}'.format(araba1.marka))\n",
    "print('Aracın Yakıt Tipi: {}'.format(araba1.yakıt_tipi))"
   ]
  },
  {
   "cell_type": "markdown",
   "id": "d604b489",
   "metadata": {},
   "source": [
    "## 4. Functions (Metotlar) Nedir?\n",
    "\n",
    "Sınıflar içinde tanımlanan ve nesneler üzerinden çağırabilen, belirli bir amaca yönelik işlemleri gerçekleştirmek amacıyla tanımlanan yapılardır.\n",
    "\n",
    "- Kullanım amacı kodların tekrar kullanılmasıdır.\n",
    "- Parametre alabilirler.\n",
    "- <code>def</code> ile metot tanımlayabiliriz.\n",
    "\n",
    "Oluşturulan araba sınıfına arabanın özelliklerini yazdıran bir metot ekleyiniz."
   ]
  },
  {
   "cell_type": "code",
   "execution_count": null,
   "id": "c81241bf",
   "metadata": {},
   "outputs": [],
   "source": [
    "#Toplama isminde bir fonksiyon tanımlayalım\n",
    "def toplama(a,b):\n",
    "    return a + b\n",
    "\n",
    "toplama(3, 5)"
   ]
  },
  {
   "cell_type": "code",
   "execution_count": null,
   "id": "be5ee303",
   "metadata": {},
   "outputs": [],
   "source": [
    "#Çıkarma isminde bir fonksiyon tanımlayalım\n",
    "def çıkarma(a, b):\n",
    "    return a - b\n",
    "\n",
    "çıkarma(5, 2)"
   ]
  },
  {
   "cell_type": "code",
   "execution_count": null,
   "id": "306316a4",
   "metadata": {},
   "outputs": [],
   "source": [
    "#Araba sınıfına arabanın özelliklerini yazdıran bir metot ekleyelim\n",
    "class Araba:\n",
    "    \n",
    "    def __init__(self, renk, marka, yakıt_tipi):\n",
    "        self.renk = renk\n",
    "        self.marka = marka\n",
    "        self.yakıt_tipi = yakıt_tipi\n",
    "        \n",
    "    def özellikleri_göster(self):\n",
    "        print('Arabanın Markası:', self.marka)\n",
    "        print('Arabanın Rengi:', self.renk)\n",
    "        print('Arabanın Yakıt Tipi:', self.yakıt_tipi)"
   ]
  },
  {
   "cell_type": "code",
   "execution_count": null,
   "id": "3c35309e",
   "metadata": {},
   "outputs": [],
   "source": [
    "araba1 = Araba(renk = 'Kırmızı', marka = 'Audi', yakıt_tipi = 'Dizel')\n",
    "\n",
    "araba1.özellikleri_göster()"
   ]
  },
  {
   "cell_type": "markdown",
   "id": "40ecf94d",
   "metadata": {},
   "source": [
    "## Exercise 1\n",
    "\n",
    "Bir çalışan sınıfı oluşturunuz."
   ]
  },
  {
   "cell_type": "code",
   "execution_count": null,
   "id": "ff89edf1",
   "metadata": {},
   "outputs": [],
   "source": [
    "class Çalışan():\n",
    "    pass"
   ]
  },
  {
   "cell_type": "code",
   "execution_count": null,
   "id": "658f4900",
   "metadata": {},
   "outputs": [],
   "source": [
    "çalışan1 = Çalışan()\n",
    "type(çalışan1)"
   ]
  },
  {
   "cell_type": "markdown",
   "id": "c34950fe",
   "metadata": {},
   "source": [
    "## Exercise 2\n",
    "Oluşturulan çalışan sınıfına isim, departman, maaş ve yetenekler özelliklerini ekleyiniz. Oluşturulan çalışan sınıfını bir nesne olarak kaydedip özelliklerini kontrol ediniz."
   ]
  },
  {
   "cell_type": "code",
   "execution_count": null,
   "id": "3569c623",
   "metadata": {},
   "outputs": [],
   "source": [
    "class Çalışan():\n",
    "    def __init__(self, isim, departman, maaş, yetenekler):\n",
    "        self.isim = isim\n",
    "        self.departman = departman\n",
    "        self.maaş = maaş\n",
    "        self.yetenekler = yetenekler"
   ]
  },
  {
   "cell_type": "code",
   "execution_count": null,
   "id": "1582c500",
   "metadata": {},
   "outputs": [],
   "source": [
    "# çalışan1 = Çalışan(isim = \"Samet\", departman = \"Artificial Intelligence\", maaş = 2000, yetenekler = [\"Python\", \"SQL\"])\n",
    "çalışan1 = Çalışan(\"Samet\", \"Artificial Intelligence\", 2000, [\"Python\", \"SQL\"])"
   ]
  },
  {
   "cell_type": "code",
   "execution_count": null,
   "id": "58bec7be",
   "metadata": {
    "scrolled": true
   },
   "outputs": [],
   "source": [
    "çalışan1.isim"
   ]
  },
  {
   "cell_type": "code",
   "execution_count": null,
   "id": "6512b847",
   "metadata": {},
   "outputs": [],
   "source": [
    "print(\"Çalışanın ismi: {}\" .format(çalışan1.isim))\n",
    "print(\"Çalışanın departmanı: {}\" .format(çalışan1.departman))\n",
    "print(\"Çalışanın maaşı: {}\" .format(çalışan1.maaş))\n",
    "print(\"Çalışanın yetenekleri: {}\" .format(çalışan1.yetenekler))"
   ]
  },
  {
   "cell_type": "markdown",
   "id": "6ce9c9a9",
   "metadata": {},
   "source": [
    "## Exercise 3\n",
    "\n",
    "Oluşturulan çalışan sınıfına özellikleri yazdıracak şekilde bir metot ekleyiniz."
   ]
  },
  {
   "cell_type": "code",
   "execution_count": null,
   "id": "523a49fd",
   "metadata": {},
   "outputs": [],
   "source": [
    "class Çalışan():\n",
    "    def __init__(self, isim, departman, maaş, yetenekler):\n",
    "        self.isim = isim\n",
    "        self.departman = departman\n",
    "        self.maaş = maaş\n",
    "        self.yetenekler = yetenekler\n",
    "        \n",
    "    def bilgileri_göster(self):\n",
    "        print(\"Çalışanın ismi: {}\" .format(çalışan1.isim))\n",
    "        print(\"Çalışanın departmanı: {}\" .format(çalışan1.departman))\n",
    "        print(\"Çalışanın maaşı: {}\" .format(çalışan1.maaş))\n",
    "        print(\"Çalışanın yetenekleri: {}\" .format(çalışan1.yetenekler))\n",
    "        "
   ]
  },
  {
   "cell_type": "code",
   "execution_count": null,
   "id": "66f666c2",
   "metadata": {},
   "outputs": [],
   "source": [
    "çalışan1 = Çalışan(\"Samet\",\"AI\", 2200, [\"Python\", \"Machine Learning\"])\n",
    "type(çalışan1)"
   ]
  },
  {
   "cell_type": "code",
   "execution_count": null,
   "id": "45c4d1ef",
   "metadata": {},
   "outputs": [],
   "source": [
    "çalışan1.bilgileri_göster()"
   ]
  },
  {
   "cell_type": "markdown",
   "id": "4388db42",
   "metadata": {},
   "source": [
    "## Exercise 4\n",
    "\n",
    "Oluşturulan çalışan sınıfına, maaşa zam yapabilen ve mevcut yeteneklere yeni bir yetenek ekleyebilen iki metot tanımlayınız."
   ]
  },
  {
   "cell_type": "code",
   "execution_count": 1,
   "id": "b40094bc",
   "metadata": {},
   "outputs": [],
   "source": [
    "import time"
   ]
  },
  {
   "cell_type": "code",
   "execution_count": 12,
   "id": "24a01028",
   "metadata": {},
   "outputs": [],
   "source": [
    "class Çalışan():\n",
    "    def __init__(self, isim, departman, maaş, yetenekler):\n",
    "        self.isim = isim\n",
    "        self.departman = departman\n",
    "        self.maaş = maaş\n",
    "        self.yetenekler = yetenekler\n",
    "        \n",
    "    def bilgileri_göster(self):\n",
    "        print(\"Çalışanın ismi: {}\" .format(self.isim))\n",
    "        print(\"Çalışanın departmanı: {}\" .format(self.departman))\n",
    "        print(\"Çalışanın maaşı: {}\" .format(self.maaş))\n",
    "        print(\"Çalışanın yetenekleri: {}\" .format(self.yetenekler))\n",
    "    \n",
    "    def yetenek_ekle(self, yeni_yetenek):\n",
    "        print(\"Yetenek ekleniyor...\")\n",
    "        time.sleep(3)\n",
    "        print(\"Yetenek eklendi!\")\n",
    "        self.yetenekler.append(yeni_yetenek)\n",
    "        \n",
    "    def zam_yap(self, zam_miktarı):\n",
    "        print(\"Zam yapılıyor...\")\n",
    "        time.sleep(3)\n",
    "        print(\"Zam yapıldı!\")\n",
    "        self.maaş += zam_miktarı"
   ]
  },
  {
   "cell_type": "code",
   "execution_count": 13,
   "id": "74da9f8c",
   "metadata": {},
   "outputs": [],
   "source": [
    "çalışan2 = Çalışan(\"Samet\", \"AI\", 2500, [\"Python\", \"AI\"])"
   ]
  },
  {
   "cell_type": "code",
   "execution_count": 14,
   "id": "308d2157",
   "metadata": {},
   "outputs": [
    {
     "name": "stdout",
     "output_type": "stream",
     "text": [
      "Yetenek ekleniyor...\n",
      "Yetenek eklendi!\n"
     ]
    }
   ],
   "source": [
    "çalışan2.yetenek_ekle(\"ML\")"
   ]
  },
  {
   "cell_type": "code",
   "execution_count": 15,
   "id": "8bd81654",
   "metadata": {},
   "outputs": [
    {
     "name": "stdout",
     "output_type": "stream",
     "text": [
      "Çalışanın ismi: Samet\n",
      "Çalışanın departmanı: AI\n",
      "Çalışanın maaşı: 2500\n",
      "Çalışanın yetenekleri: ['Python', 'AI', 'ML']\n"
     ]
    }
   ],
   "source": [
    "çalışan2.bilgileri_göster()"
   ]
  },
  {
   "cell_type": "code",
   "execution_count": 16,
   "id": "92d2f7ba",
   "metadata": {},
   "outputs": [
    {
     "name": "stdout",
     "output_type": "stream",
     "text": [
      "Zam yapılıyor...\n",
      "Zam yapıldı!\n"
     ]
    }
   ],
   "source": [
    "çalışan2.zam_yap(500)"
   ]
  },
  {
   "cell_type": "code",
   "execution_count": 17,
   "id": "21781bfd",
   "metadata": {},
   "outputs": [
    {
     "name": "stdout",
     "output_type": "stream",
     "text": [
      "Çalışanın ismi: Samet\n",
      "Çalışanın departmanı: AI\n",
      "Çalışanın maaşı: 3000\n",
      "Çalışanın yetenekleri: ['Python', 'AI', 'ML']\n"
     ]
    }
   ],
   "source": [
    "çalışan2.bilgileri_göster()"
   ]
  }
 ],
 "metadata": {
  "kernelspec": {
   "display_name": "Python 3 (ipykernel)",
   "language": "python",
   "name": "python3"
  },
  "language_info": {
   "codemirror_mode": {
    "name": "ipython",
    "version": 3
   },
   "file_extension": ".py",
   "mimetype": "text/x-python",
   "name": "python",
   "nbconvert_exporter": "python",
   "pygments_lexer": "ipython3",
   "version": "3.9.12"
  }
 },
 "nbformat": 4,
 "nbformat_minor": 5
}
